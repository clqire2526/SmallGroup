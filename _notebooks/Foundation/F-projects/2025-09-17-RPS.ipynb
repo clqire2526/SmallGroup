{
 "cells": [
  {
   "cell_type": "markdown",
   "id": "d476ae3d",
   "metadata": {},
   "source": []
  }
 ],
 "metadata": {
  "language_info": {
   "name": "python"
  }
 },
 "nbformat": 4,
 "nbformat_minor": 5
}
